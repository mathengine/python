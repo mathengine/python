{
  "nbformat": 4,
  "nbformat_minor": 0,
  "metadata": {
    "colab": {
      "name": "Untitled0.ipynb",
      "version": "0.3.2",
      "provenance": [],
      "include_colab_link": true
    },
    "kernelspec": {
      "name": "python3",
      "display_name": "Python 3"
    }
  },
  "cells": [
    {
      "cell_type": "markdown",
      "metadata": {
        "id": "view-in-github",
        "colab_type": "text"
      },
      "source": [
        "<a href=\"https://colab.research.google.com/github/mathengine/python/blob/master/python-0.ipynb\" target=\"_parent\"><img src=\"https://colab.research.google.com/assets/colab-badge.svg\" alt=\"Open In Colab\"/></a>"
      ]
    },
    {
      "metadata": {
        "id": "7NwATWSrHv2J",
        "colab_type": "text"
      },
      "cell_type": "markdown",
      "source": [
        "# Python tips and tricks"
      ]
    },
    {
      "metadata": {
        "id": "PX3wUerFF6aP",
        "colab_type": "code",
        "colab": {}
      },
      "cell_type": "code",
      "source": [
        "import tensorflow as tf"
      ],
      "execution_count": 0,
      "outputs": []
    },
    {
      "metadata": {
        "id": "TAKbtZ_iIBlG",
        "colab_type": "text"
      },
      "cell_type": "markdown",
      "source": [
        "Array / list"
      ]
    },
    {
      "metadata": {
        "id": "vcbel8YkIA8V",
        "colab_type": "code",
        "colab": {}
      },
      "cell_type": "code",
      "source": [
        ""
      ],
      "execution_count": 0,
      "outputs": []
    },
    {
      "metadata": {
        "id": "vy0I50KcIGUm",
        "colab_type": "text"
      },
      "cell_type": "markdown",
      "source": [
        "Set / dictionary"
      ]
    },
    {
      "metadata": {
        "id": "eXYrkA3XINBf",
        "colab_type": "code",
        "colab": {}
      },
      "cell_type": "code",
      "source": [
        ""
      ],
      "execution_count": 0,
      "outputs": []
    }
  ]
}